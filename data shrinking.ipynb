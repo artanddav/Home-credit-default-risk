{
 "cells": [
  {
   "cell_type": "markdown",
   "metadata": {},
   "source": [
    "Problem: We have large csv files here (up to 27299925 rows and up to 122 columns) and therefore will have huge mwmory usage"
   ]
  },
  {
   "cell_type": "markdown",
   "metadata": {},
   "source": [
    "Solution: Convert all numerical variables to types that relevant to their ranges"
   ]
  },
  {
   "cell_type": "markdown",
   "metadata": {},
   "source": [
    "Steps: \n",
    "- import libraries pandas, numpy and re\n",
    "- create a function that will \n",
    "    * read csv file,\n",
    "    * iterate each column,\n",
    "    * change to appropriape variable class,\n",
    "    * save to csv with abrvviation _mod\n",
    "- apply function to each csv file"
   ]
  },
  {
   "cell_type": "code",
   "execution_count": 12,
   "metadata": {},
   "outputs": [],
   "source": [
    "import pandas as pd\n",
    "import numpy as np\n",
    "import re"
   ]
  },
  {
   "cell_type": "code",
   "execution_count": 2,
   "metadata": {
    "scrolled": true
   },
   "outputs": [],
   "source": [
    "appl_test = pd.read_csv(r'F:\\Kaggle\\home_credit_default_risk\\csv\\application_test.csv') # memory usage: 85.3 MB - > 60.6 MB\n",
    "appl_train = pd.read_csv(r'F:\\Kaggle\\home_credit_default_risk\\csv\\application_train.csv') # memory usage: 540.2 MB - > 382.1 MB\n",
    "bureau = pd.read_csv(r'F:\\Kaggle\\home_credit_default_risk\\csv\\bureau.csv') # memory usage: 512.1 MB - > 409.0 MB\n",
    "bureau_balance = pd.read_csv(r'F:\\Kaggle\\home_credit_default_risk\\csv\\bureau_balance.csv') # memory usage: 2.0 GB - > 1.7 GB\n",
    "cc_balance = pd.read_csv(r'F:\\Kaggle\\home_credit_default_risk\\csv\\credit_card_balance.csv') # memory usage: 875.7 MB - > 516.8 MB\n",
    "i_payments = pd.read_csv(r'F:\\Kaggle\\home_credit_default_risk\\csv\\installments_payments.csv') # memory usage: 830.4 MB - > 389.3 MB\n",
    "PC_balance = pd.read_csv(r'F:\\Kaggle\\home_credit_default_risk\\csv\\POS_CASH_balance.csv') # memory usage: 1.1 GB - > 803.4 MB\n",
    "prev_appl = pd.read_csv(r'F:\\Kaggle\\home_credit_default_risk\\csv\\previous_application.csv') # memory usage: 1.9 GB - > 1.7 GB\n"
   ]
  },
  {
   "cell_type": "markdown",
   "metadata": {},
   "source": [
    "Initial memory usage:\n",
    "\n",
    "appl_test        85.3 MB \n",
    "appl_train       540.2 MB\n",
    "bureau           512.1 MB\n",
    "bureau_balance   2.0 GB \n",
    "cc_balance       875.7 MB\n",
    "i_payments       830.4 MB\n",
    "PC_balance       1.1 GB\n",
    "prev_appl        1.9 GB"
   ]
  },
  {
   "cell_type": "code",
   "execution_count": 60,
   "metadata": {},
   "outputs": [
    {
     "name": "stdout",
     "output_type": "stream",
     "text": [
      "<class 'pandas.core.frame.DataFrame'>\n",
      "RangeIndex: 1670214 entries, 0 to 1670213\n",
      "Data columns (total 37 columns):\n",
      "SK_ID_PREV                     1670214 non-null int64\n",
      "SK_ID_CURR                     1670214 non-null int64\n",
      "NAME_CONTRACT_TYPE             1670214 non-null object\n",
      "AMT_ANNUITY                    1297979 non-null float64\n",
      "AMT_APPLICATION                1670214 non-null float64\n",
      "AMT_CREDIT                     1670213 non-null float64\n",
      "AMT_DOWN_PAYMENT               774370 non-null float64\n",
      "AMT_GOODS_PRICE                1284699 non-null float64\n",
      "WEEKDAY_APPR_PROCESS_START     1670214 non-null object\n",
      "HOUR_APPR_PROCESS_START        1670214 non-null int64\n",
      "FLAG_LAST_APPL_PER_CONTRACT    1670214 non-null object\n",
      "NFLAG_LAST_APPL_IN_DAY         1670214 non-null int64\n",
      "RATE_DOWN_PAYMENT              774370 non-null float64\n",
      "RATE_INTEREST_PRIMARY          5951 non-null float64\n",
      "RATE_INTEREST_PRIVILEGED       5951 non-null float64\n",
      "NAME_CASH_LOAN_PURPOSE         1670214 non-null object\n",
      "NAME_CONTRACT_STATUS           1670214 non-null object\n",
      "DAYS_DECISION                  1670214 non-null int64\n",
      "NAME_PAYMENT_TYPE              1670214 non-null object\n",
      "CODE_REJECT_REASON             1670214 non-null object\n",
      "NAME_TYPE_SUITE                849809 non-null object\n",
      "NAME_CLIENT_TYPE               1670214 non-null object\n",
      "NAME_GOODS_CATEGORY            1670214 non-null object\n",
      "NAME_PORTFOLIO                 1670214 non-null object\n",
      "NAME_PRODUCT_TYPE              1670214 non-null object\n",
      "CHANNEL_TYPE                   1670214 non-null object\n",
      "SELLERPLACE_AREA               1670214 non-null int64\n",
      "NAME_SELLER_INDUSTRY           1670214 non-null object\n",
      "CNT_PAYMENT                    1297984 non-null float64\n",
      "NAME_YIELD_GROUP               1670214 non-null object\n",
      "PRODUCT_COMBINATION            1669868 non-null object\n",
      "DAYS_FIRST_DRAWING             997149 non-null float64\n",
      "DAYS_FIRST_DUE                 997149 non-null float64\n",
      "DAYS_LAST_DUE_1ST_VERSION      997149 non-null float64\n",
      "DAYS_LAST_DUE                  997149 non-null float64\n",
      "DAYS_TERMINATION               997149 non-null float64\n",
      "NFLAG_INSURED_ON_APPROVAL      997149 non-null float64\n",
      "dtypes: float64(15), int64(6), object(16)\n",
      "memory usage: 1.9 GB\n"
     ]
    }
   ],
   "source": [
    "prev_appl.info(memory_usage = 'deep')"
   ]
  },
  {
   "cell_type": "code",
   "execution_count": 16,
   "metadata": {},
   "outputs": [],
   "source": [
    "def data_shrink(read_path,write_path):\n",
    "    data = pd.read_csv(read_path)\n",
    "    for col in data:\n",
    "        if data[col].dtype != np.object:\n",
    "            downcast=str(data[col].dtype)[0:-2]\n",
    "            if(downcast=='int'):\n",
    "                downcast='signed' if data[col].min()<0 else \"unsigned\"\n",
    "            data[col] = pd.to_numeric(data[col],downcast = downcast)\n",
    "    data.to_csv(write_path, sep = ',')\n",
    "    data.info(memory_usage = 'deep')"
   ]
  },
  {
   "cell_type": "code",
   "execution_count": 17,
   "metadata": {},
   "outputs": [],
   "source": [
    "write_paths = [\n",
    "'application_test.csv',\n",
    "'application_train.csv',\n",
    "'bureau.csv',\n",
    "'bureau_balance.csv',\n",
    "'credit_card_balance.csv',\n",
    "'installments_payments.csv',\n",
    "'POS_CASH_balance.csv',\n",
    "'previous_application.csv']\n",
    "read_paths = [r'F:\\Kaggle\\home_credit_default_risk\\csv\\\\' + x for x in write_paths]\n",
    "write_paths = [r'F:\\Kaggle\\home_credit_default_risk\\python_data\\csv\\\\' + re.sub(r'\\.','_mod.',x) for x in write_paths]"
   ]
  },
  {
   "cell_type": "code",
   "execution_count": 18,
   "metadata": {
    "scrolled": false
   },
   "outputs": [
    {
     "name": "stdout",
     "output_type": "stream",
     "text": [
      "<class 'pandas.core.frame.DataFrame'>\n",
      "RangeIndex: 48744 entries, 0 to 48743\n",
      "Columns: 121 entries, SK_ID_CURR to AMT_REQ_CREDIT_BUREAU_YEAR\n",
      "dtypes: float32(65), int16(2), int32(1), int8(1), object(16), uint32(1), uint8(35)\n",
      "memory usage: 60.6 MB\n",
      "<class 'pandas.core.frame.DataFrame'>\n",
      "RangeIndex: 307511 entries, 0 to 307510\n",
      "Columns: 122 entries, SK_ID_CURR to AMT_REQ_CREDIT_BUREAU_YEAR\n",
      "dtypes: float32(65), int16(2), int32(1), object(16), uint32(1), uint8(37)\n",
      "memory usage: 382.1 MB\n",
      "<class 'pandas.core.frame.DataFrame'>\n",
      "RangeIndex: 1716428 entries, 0 to 1716427\n",
      "Data columns (total 17 columns):\n",
      "SK_ID_CURR                uint32\n",
      "SK_ID_BUREAU              uint32\n",
      "CREDIT_ACTIVE             object\n",
      "CREDIT_CURRENCY           object\n",
      "DAYS_CREDIT               int16\n",
      "CREDIT_DAY_OVERDUE        uint16\n",
      "DAYS_CREDIT_ENDDATE       float32\n",
      "DAYS_ENDDATE_FACT         float32\n",
      "AMT_CREDIT_MAX_OVERDUE    float32\n",
      "CNT_CREDIT_PROLONG        uint8\n",
      "AMT_CREDIT_SUM            float32\n",
      "AMT_CREDIT_SUM_DEBT       float32\n",
      "AMT_CREDIT_SUM_LIMIT      float32\n",
      "AMT_CREDIT_SUM_OVERDUE    float32\n",
      "CREDIT_TYPE               object\n",
      "DAYS_CREDIT_UPDATE        int32\n",
      "AMT_ANNUITY               float32\n",
      "dtypes: float32(8), int16(1), int32(1), object(3), uint16(1), uint32(2), uint8(1)\n",
      "memory usage: 409.0 MB\n",
      "<class 'pandas.core.frame.DataFrame'>\n",
      "RangeIndex: 27299925 entries, 0 to 27299924\n",
      "Data columns (total 3 columns):\n",
      "SK_ID_BUREAU      uint32\n",
      "MONTHS_BALANCE    int8\n",
      "STATUS            object\n",
      "dtypes: int8(1), object(1), uint32(1)\n",
      "memory usage: 1.7 GB\n",
      "<class 'pandas.core.frame.DataFrame'>\n",
      "RangeIndex: 3840312 entries, 0 to 3840311\n",
      "Data columns (total 23 columns):\n",
      "SK_ID_PREV                    uint32\n",
      "SK_ID_CURR                    uint32\n",
      "MONTHS_BALANCE                int8\n",
      "AMT_BALANCE                   float32\n",
      "AMT_CREDIT_LIMIT_ACTUAL       uint32\n",
      "AMT_DRAWINGS_ATM_CURRENT      float32\n",
      "AMT_DRAWINGS_CURRENT          float32\n",
      "AMT_DRAWINGS_OTHER_CURRENT    float32\n",
      "AMT_DRAWINGS_POS_CURRENT      float32\n",
      "AMT_INST_MIN_REGULARITY       float32\n",
      "AMT_PAYMENT_CURRENT           float32\n",
      "AMT_PAYMENT_TOTAL_CURRENT     float32\n",
      "AMT_RECEIVABLE_PRINCIPAL      float32\n",
      "AMT_RECIVABLE                 float32\n",
      "AMT_TOTAL_RECEIVABLE          float32\n",
      "CNT_DRAWINGS_ATM_CURRENT      float32\n",
      "CNT_DRAWINGS_CURRENT          uint8\n",
      "CNT_DRAWINGS_OTHER_CURRENT    float32\n",
      "CNT_DRAWINGS_POS_CURRENT      float32\n",
      "CNT_INSTALMENT_MATURE_CUM     float32\n",
      "NAME_CONTRACT_STATUS          object\n",
      "SK_DPD                        uint16\n",
      "SK_DPD_DEF                    uint16\n",
      "dtypes: float32(15), int8(1), object(1), uint16(2), uint32(3), uint8(1)\n",
      "memory usage: 516.8 MB\n",
      "<class 'pandas.core.frame.DataFrame'>\n",
      "RangeIndex: 13605401 entries, 0 to 13605400\n",
      "Data columns (total 8 columns):\n",
      "SK_ID_PREV                uint32\n",
      "SK_ID_CURR                uint32\n",
      "NUM_INSTALMENT_VERSION    float32\n",
      "NUM_INSTALMENT_NUMBER     uint16\n",
      "DAYS_INSTALMENT           float32\n",
      "DAYS_ENTRY_PAYMENT        float32\n",
      "AMT_INSTALMENT            float32\n",
      "AMT_PAYMENT               float32\n",
      "dtypes: float32(5), uint16(1), uint32(2)\n",
      "memory usage: 389.3 MB\n",
      "<class 'pandas.core.frame.DataFrame'>\n",
      "RangeIndex: 10001358 entries, 0 to 10001357\n",
      "Data columns (total 8 columns):\n",
      "SK_ID_PREV               uint32\n",
      "SK_ID_CURR               uint32\n",
      "MONTHS_BALANCE           int8\n",
      "CNT_INSTALMENT           float32\n",
      "CNT_INSTALMENT_FUTURE    float32\n",
      "NAME_CONTRACT_STATUS     object\n",
      "SK_DPD                   uint16\n",
      "SK_DPD_DEF               uint16\n",
      "dtypes: float32(2), int8(1), object(1), uint16(2), uint32(2)\n",
      "memory usage: 803.4 MB\n",
      "<class 'pandas.core.frame.DataFrame'>\n",
      "RangeIndex: 1670214 entries, 0 to 1670213\n",
      "Data columns (total 37 columns):\n",
      "SK_ID_PREV                     1670214 non-null uint32\n",
      "SK_ID_CURR                     1670214 non-null uint32\n",
      "NAME_CONTRACT_TYPE             1670214 non-null object\n",
      "AMT_ANNUITY                    1297979 non-null float32\n",
      "AMT_APPLICATION                1670214 non-null float32\n",
      "AMT_CREDIT                     1670213 non-null float32\n",
      "AMT_DOWN_PAYMENT               774370 non-null float32\n",
      "AMT_GOODS_PRICE                1284699 non-null float32\n",
      "WEEKDAY_APPR_PROCESS_START     1670214 non-null object\n",
      "HOUR_APPR_PROCESS_START        1670214 non-null uint8\n",
      "FLAG_LAST_APPL_PER_CONTRACT    1670214 non-null object\n",
      "NFLAG_LAST_APPL_IN_DAY         1670214 non-null uint8\n",
      "RATE_DOWN_PAYMENT              774370 non-null float32\n",
      "RATE_INTEREST_PRIMARY          5951 non-null float32\n",
      "RATE_INTEREST_PRIVILEGED       5951 non-null float32\n",
      "NAME_CASH_LOAN_PURPOSE         1670214 non-null object\n",
      "NAME_CONTRACT_STATUS           1670214 non-null object\n",
      "DAYS_DECISION                  1670214 non-null int16\n",
      "NAME_PAYMENT_TYPE              1670214 non-null object\n",
      "CODE_REJECT_REASON             1670214 non-null object\n",
      "NAME_TYPE_SUITE                849809 non-null object\n",
      "NAME_CLIENT_TYPE               1670214 non-null object\n",
      "NAME_GOODS_CATEGORY            1670214 non-null object\n",
      "NAME_PORTFOLIO                 1670214 non-null object\n",
      "NAME_PRODUCT_TYPE              1670214 non-null object\n",
      "CHANNEL_TYPE                   1670214 non-null object\n",
      "SELLERPLACE_AREA               1670214 non-null int32\n",
      "NAME_SELLER_INDUSTRY           1670214 non-null object\n",
      "CNT_PAYMENT                    1297984 non-null float32\n",
      "NAME_YIELD_GROUP               1670214 non-null object\n",
      "PRODUCT_COMBINATION            1669868 non-null object\n",
      "DAYS_FIRST_DRAWING             997149 non-null float32\n",
      "DAYS_FIRST_DUE                 997149 non-null float32\n",
      "DAYS_LAST_DUE_1ST_VERSION      997149 non-null float32\n",
      "DAYS_LAST_DUE                  997149 non-null float32\n",
      "DAYS_TERMINATION               997149 non-null float32\n",
      "NFLAG_INSURED_ON_APPROVAL      997149 non-null float32\n",
      "dtypes: float32(15), int16(1), int32(1), object(16), uint32(2), uint8(2)\n",
      "memory usage: 1.7 GB\n"
     ]
    }
   ],
   "source": [
    "for i in range(len(write_paths)):\n",
    "    data_shrink(read_paths[i],write_paths[i])"
   ]
  },
  {
   "cell_type": "markdown",
   "metadata": {},
   "source": [
    "Memory usage after shrinking:\n",
    "                 before       after\n",
    "appl_test        85.3 MB  - > 60.6 MB\n",
    "appl_train       540.2 MB - > 382.1 MB\n",
    "bureau           512.1 MB - > 409.0 MB\n",
    "bureau_balance   2.0 GB   - > 1.7 GB\n",
    "cc_balance       875.7 MB - > 516.8 MB\n",
    "i_payments       830.4 MB - > 389.3 MB\n",
    "PC_balance       1.1 GB   - > 803.4 MB\n",
    "prev_appl        1.9 GB   - > 1.7 GB"
   ]
  }
 ],
 "metadata": {
  "kernelspec": {
   "display_name": "Python 3",
   "language": "python",
   "name": "python3"
  },
  "language_info": {
   "codemirror_mode": {
    "name": "ipython",
    "version": 3
   },
   "file_extension": ".py",
   "mimetype": "text/x-python",
   "name": "python",
   "nbconvert_exporter": "python",
   "pygments_lexer": "ipython3",
   "version": "3.6.5"
  }
 },
 "nbformat": 4,
 "nbformat_minor": 2
}
